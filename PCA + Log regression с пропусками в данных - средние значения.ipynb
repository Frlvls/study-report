{
 "cells": [
  {
   "cell_type": "code",
   "execution_count": 67,
   "metadata": {
    "id": "YvK4JgyUqRav"
   },
   "outputs": [],
   "source": [
    "%matplotlib inline\n",
    "\n",
    "import pandas as pd\n",
    "import numpy as np\n",
    "import seaborn as sns\n",
    "import matplotlib.pyplot as plt\n",
    "import io\n",
    "\n",
    "plt.style.use('ggplot')"
   ]
  },
  {
   "cell_type": "code",
   "execution_count": 68,
   "metadata": {
    "colab": {
     "base_uri": "https://localhost:8080/",
     "height": 73
    },
    "id": "gqLWmlPTrfpW",
    "outputId": "c29388ee-057d-455f-bdfb-b4ff32ad3c2d"
   },
   "outputs": [],
   "source": [
    "# загрузка файла в формате .csv\n",
    "#from google.colab import files\n",
    "#uploaded = files.upload()\n",
    "df = pd.read_excel('base-small.xlsx', na_values='-', index_col=0)"
   ]
  },
  {
   "cell_type": "code",
   "execution_count": 69,
   "metadata": {
    "colab": {
     "base_uri": "https://localhost:8080/"
    },
    "id": "L1Kor5Xmu3uJ",
    "outputId": "7be69859-9dd0-4608-9c6f-7d0e106714c9"
   },
   "outputs": [
    {
     "name": "stderr",
     "output_type": "stream",
     "text": [
      "/var/folders/pt/1nd8f39x3h116nnrbqlgpbdw0000gn/T/ipykernel_15224/50795730.py:1: FutureWarning: In a future version of pandas all arguments of DataFrame.drop except for the argument 'labels' will be keyword-only.\n",
      "  X = df.drop('Исход', 1)\n"
     ]
    }
   ],
   "source": [
    "X = df.drop('Исход', 1) \n",
    "y = df['Исход']"
   ]
  },
  {
   "cell_type": "code",
   "execution_count": 70,
   "metadata": {
    "id": "p1tHaQCa3_Tz"
   },
   "outputs": [],
   "source": [
    "# Нормализация данных\n",
    "from sklearn.preprocessing import StandardScaler \n",
    " \n",
    "scaler = StandardScaler() \n",
    "scaler.fit(X)\n",
    "X_scaled = scaler.transform(X)"
   ]
  },
  {
   "cell_type": "code",
   "execution_count": 71,
   "metadata": {
    "id": "wnSWU_oe4IfA"
   },
   "outputs": [],
   "source": [
    "# Применение PCA\n",
    "from sklearn.decomposition import PCA \n",
    "# количество атрибутов, которые передаем в алгоритм, если запустить pca = PCA(), то в следующем окне explained_variance можно увидеть значение дисперсии для каждого атрибута\n",
    "# нужно экспериментировать и подбирать кол-во атрибутов. Я брал 0.9, так как это содержит 90 процентов всей информации, что довольно много + сокращает кол-во атрибутов. \n",
    "# можно брать не проценты, а кол-во \n",
    "# перезапускать программу при изменении n_components надо с инициализации X, y \n",
    "pca = PCA() \n",
    "pca.fit(X_scaled) \n",
    "X_pca = pca.transform(X_scaled)"
   ]
  },
  {
   "cell_type": "code",
   "execution_count": 72,
   "metadata": {
    "colab": {
     "base_uri": "https://localhost:8080/"
    },
    "id": "PlJujf4Q4LfV",
    "outputId": "e1fc798a-b059-4a1c-a68b-9d32306679b1",
    "scrolled": true
   },
   "outputs": [
    {
     "name": "stdout",
     "output_type": "stream",
     "text": [
      "[5.35671738e-02 3.88104948e-02 3.33883588e-02 2.84630245e-02\n",
      " 2.50735153e-02 2.16588860e-02 2.01924410e-02 1.86874992e-02\n",
      " 1.78323926e-02 1.64700905e-02 1.56553187e-02 1.55364768e-02\n",
      " 1.47053926e-02 1.39584303e-02 1.31593535e-02 1.27709503e-02\n",
      " 1.23390441e-02 1.20640795e-02 1.14502929e-02 1.13143046e-02\n",
      " 1.10251245e-02 1.06967125e-02 1.04815611e-02 1.01373401e-02\n",
      " 9.48512933e-03 9.25626514e-03 9.06667022e-03 8.80183102e-03\n",
      " 8.56786021e-03 8.50064232e-03 8.08529125e-03 7.84505561e-03\n",
      " 7.73596057e-03 7.70636825e-03 7.40786179e-03 7.34938394e-03\n",
      " 7.19701342e-03 7.04829534e-03 6.93309306e-03 6.74680454e-03\n",
      " 6.60603341e-03 6.57235464e-03 6.40219693e-03 6.28210053e-03\n",
      " 6.22464595e-03 6.02667081e-03 5.99539716e-03 5.72008825e-03\n",
      " 5.68524897e-03 5.61364769e-03 5.44341090e-03 5.36023751e-03\n",
      " 5.27756471e-03 5.18601407e-03 5.05074747e-03 5.04199704e-03\n",
      " 4.97782492e-03 4.95737666e-03 4.82693410e-03 4.74800489e-03\n",
      " 4.70068495e-03 4.54091734e-03 4.49948645e-03 4.46659558e-03\n",
      " 4.41886280e-03 4.36272514e-03 4.26796476e-03 4.17273198e-03\n",
      " 4.15457139e-03 4.09178573e-03 4.00870667e-03 3.98729244e-03\n",
      " 3.95087254e-03 3.88486052e-03 3.85227262e-03 3.78468790e-03\n",
      " 3.72667877e-03 3.66879913e-03 3.63096897e-03 3.56554009e-03\n",
      " 3.51499345e-03 3.44712700e-03 3.42246845e-03 3.31653039e-03\n",
      " 3.30945976e-03 3.25501681e-03 3.22973549e-03 3.20850280e-03\n",
      " 3.18755937e-03 3.09703669e-03 3.03617055e-03 3.00710971e-03\n",
      " 2.98169604e-03 2.95261661e-03 2.89090844e-03 2.86961674e-03\n",
      " 2.83774682e-03 2.80395947e-03 2.75521826e-03 2.70777655e-03\n",
      " 2.69047191e-03 2.65503751e-03 2.62980026e-03 2.59186782e-03\n",
      " 2.56779337e-03 2.53706455e-03 2.53027630e-03 2.48156996e-03\n",
      " 2.46724008e-03 2.43210056e-03 2.37582214e-03 2.33748385e-03\n",
      " 2.30711534e-03 2.26791483e-03 2.22645798e-03 2.17899348e-03\n",
      " 2.16758933e-03 2.12399112e-03 2.12045810e-03 2.07174421e-03\n",
      " 2.05502172e-03 2.01257640e-03 1.97823635e-03 1.96553774e-03\n",
      " 1.94347846e-03 1.93767226e-03 1.92746325e-03 1.89688175e-03\n",
      " 1.87685588e-03 1.79975668e-03 1.77994357e-03 1.75246507e-03\n",
      " 1.72524379e-03 1.69433130e-03 1.68308651e-03 1.66363711e-03\n",
      " 1.64133511e-03 1.63346147e-03 1.62279108e-03 1.58627337e-03\n",
      " 1.57377721e-03 1.55937037e-03 1.53247777e-03 1.50538354e-03\n",
      " 1.49204157e-03 1.46790100e-03 1.46440555e-03 1.42658388e-03\n",
      " 1.38686442e-03 1.36781620e-03 1.34229927e-03 1.32459003e-03\n",
      " 1.30671422e-03 1.28163245e-03 1.27387555e-03 1.26143234e-03\n",
      " 1.23922249e-03 1.23079740e-03 1.21429691e-03 1.20513323e-03\n",
      " 1.18412278e-03 1.16709232e-03 1.14811005e-03 1.13389914e-03\n",
      " 1.10762625e-03 1.09148671e-03 1.06882411e-03 1.06129645e-03\n",
      " 1.04125587e-03 1.03606868e-03 1.01466903e-03 1.00601897e-03\n",
      " 9.95034587e-04 9.81211726e-04 9.65306915e-04 9.57961876e-04\n",
      " 9.47585969e-04 9.44513978e-04 9.21220591e-04 8.93498112e-04\n",
      " 8.66702071e-04 8.60712152e-04 8.52213710e-04 8.18468416e-04\n",
      " 8.09266972e-04 7.97176504e-04 7.75800194e-04 7.66477419e-04\n",
      " 7.59450502e-04 7.41593822e-04 7.35488455e-04 7.22830326e-04\n",
      " 7.17468019e-04 7.05619301e-04 7.03582071e-04 6.89657917e-04\n",
      " 6.79531097e-04 6.63914912e-04 6.43618663e-04 6.37019326e-04\n",
      " 6.16874300e-04 6.07909648e-04 6.00898679e-04 5.85276748e-04\n",
      " 5.73228919e-04 5.57149422e-04 5.55117218e-04 5.41436313e-04\n",
      " 5.34950173e-04 5.25901874e-04 5.07640264e-04 5.01754603e-04\n",
      " 4.91647297e-04 4.87711217e-04 4.78801417e-04 4.68908017e-04\n",
      " 4.58409009e-04 4.43893991e-04 4.36650340e-04 4.23297825e-04\n",
      " 4.11983235e-04 4.03316707e-04 3.94158306e-04 3.86564452e-04\n",
      " 3.81767009e-04 3.68744616e-04 3.65783434e-04 3.55320675e-04\n",
      " 3.30080666e-04 3.23216478e-04 3.18190201e-04 3.11783445e-04\n",
      " 3.06403895e-04 2.96331017e-04 2.89375338e-04 2.73645254e-04\n",
      " 2.67754998e-04 2.66164857e-04 2.51163842e-04 2.43620363e-04\n",
      " 2.33877526e-04 2.27914967e-04 2.19718883e-04 2.13749712e-04\n",
      " 2.04335678e-04 1.94590278e-04 1.86237966e-04 1.74234052e-04\n",
      " 1.68937320e-04 1.63877632e-04 1.52145273e-04 1.45104347e-04\n",
      " 1.30806720e-04 1.27566366e-04 1.18823442e-04 1.10568674e-04\n",
      " 9.48126003e-05 7.27375762e-05 5.58871508e-05 4.60739620e-05\n",
      " 3.74700923e-05 3.26815227e-05 3.11956036e-05 2.83806391e-05\n",
      " 2.48895397e-05 2.32977628e-05 2.09871591e-05 1.53022808e-05\n",
      " 1.19002800e-05 1.12266984e-05 8.69327938e-06 6.14627590e-06\n",
      " 5.07480733e-06 4.60739945e-06 3.00347718e-06 2.70025473e-06\n",
      " 2.22755788e-06 7.27256017e-10 2.45719806e-34]\n"
     ]
    }
   ],
   "source": [
    "# значение дисперсии для атрибутов\n",
    "explained_variance = pca.explained_variance_ratio_ \n",
    "print(explained_variance)"
   ]
  },
  {
   "cell_type": "code",
   "execution_count": 73,
   "metadata": {
    "colab": {
     "base_uri": "https://localhost:8080/",
     "height": 454
    },
    "id": "ZTjfdPS7EnuH",
    "outputId": "feed898c-475f-4652-b127-9f2848c85951"
   },
   "outputs": [
    {
     "data": {
      "image/png": "[encoded data removed]",
      "text/plain": [
       "<Figure size 640x480 with 1 Axes>"
      ]
     },
     "metadata": {},
     "output_type": "display_data"
    }
   ],
   "source": [
    "plt.plot(np.cumsum(pca.explained_variance_ratio_))\n",
    "plt.xlabel('Количество атрибутов')\n",
    "plt.ylabel('Дисперсия')\n",
    "plt.savefig('elbow_plot.png', dpi=100)"
   ]
  },
  {
   "cell_type": "code",
   "execution_count": 74,
   "metadata": {
    "colab": {
     "base_uri": "https://localhost:8080/"
    },
    "id": "flo33rG0F_S2",
    "outputId": "c7a15d08-c485-4ba3-fdfe-f86866ce175a"
   },
   "outputs": [
    {
     "data": {
      "text/plain": [
       "(926, 20)"
      ]
     },
     "execution_count": 74,
     "metadata": {},
     "output_type": "execute_result"
    }
   ],
   "source": [
    "pca = PCA(n_components=20) \n",
    "pca.fit(X_scaled) \n",
    "X_pca = pca.transform(X_scaled)\n",
    "\n",
    "X_pca.shape"
   ]
  },
  {
   "cell_type": "code",
   "execution_count": 76,
   "metadata": {},
   "outputs": [
    {
     "name": "stdout",
     "output_type": "stream",
     "text": [
      "[[-5.28689185  6.0628065  -2.22580508 ...  1.16678675  0.83209347\n",
      "   0.60341231]\n",
      " [-0.26561716  0.21475878 -0.34283239 ... -0.42032187  0.12660178\n",
      "  -0.08474577]\n",
      " [-6.38382078 -1.02532632  3.41733806 ... -1.74453302 -2.71259872\n",
      "   4.60549502]\n",
      " ...\n",
      " [-0.74103375 -0.79697071  1.32974096 ...  0.62896248  0.66161071\n",
      "  -0.27649999]\n",
      " [ 1.5002617  -2.57839166  1.67885875 ...  1.12739551 -0.21803591\n",
      "   0.6675998 ]\n",
      " [-0.20407683  0.38117034 -0.16367299 ... -0.0871596   0.13898128\n",
      "  -0.13408048]]\n"
     ]
    }
   ],
   "source": [
    "print(X_pca)"
   ]
  },
  {
   "cell_type": "code",
   "execution_count": 75,
   "metadata": {
    "colab": {
     "base_uri": "https://localhost:8080/",
     "height": 299
    },
    "id": "R3MjE1SYGXDE",
    "outputId": "27d8cde1-8c62-4886-a36d-0ea7733dc19a",
    "scrolled": true
   },
   "outputs": [
    {
     "data": {
      "text/html": [
       "<div>\n",
       "<style scoped>\n",
       "    .dataframe tbody tr th:only-of-type {\n",
       "        vertical-align: middle;\n",
       "    }\n",
       "\n",
       "    .dataframe tbody tr th {\n",
       "        vertical-align: top;\n",
       "    }\n",
       "\n",
       "    .dataframe thead th {\n",
       "        text-align: right;\n",
       "    }\n",
       "</style>\n",
       "<table border=\"1\" class=\"dataframe\">\n",
       "  <thead>\n",
       "    <tr style=\"text-align: right;\">\n",
       "      <th></th>\n",
       "      <th>0</th>\n",
       "      <th>1</th>\n",
       "      <th>2</th>\n",
       "      <th>3</th>\n",
       "      <th>4</th>\n",
       "      <th>5</th>\n",
       "      <th>6</th>\n",
       "      <th>7</th>\n",
       "      <th>8</th>\n",
       "      <th>9</th>\n",
       "      <th>...</th>\n",
       "      <th>11</th>\n",
       "      <th>12</th>\n",
       "      <th>13</th>\n",
       "      <th>14</th>\n",
       "      <th>15</th>\n",
       "      <th>16</th>\n",
       "      <th>17</th>\n",
       "      <th>18</th>\n",
       "      <th>19</th>\n",
       "      <th>Исход</th>\n",
       "    </tr>\n",
       "  </thead>\n",
       "  <tbody>\n",
       "    <tr>\n",
       "      <th>0</th>\n",
       "      <td>-5.286892</td>\n",
       "      <td>6.062807</td>\n",
       "      <td>-2.225805</td>\n",
       "      <td>0.970057</td>\n",
       "      <td>9.395250</td>\n",
       "      <td>-0.786571</td>\n",
       "      <td>1.540241</td>\n",
       "      <td>-1.374832</td>\n",
       "      <td>-2.386710</td>\n",
       "      <td>-0.630306</td>\n",
       "      <td>...</td>\n",
       "      <td>3.511034</td>\n",
       "      <td>5.385527</td>\n",
       "      <td>0.153624</td>\n",
       "      <td>-2.331901</td>\n",
       "      <td>0.662679</td>\n",
       "      <td>1.885741</td>\n",
       "      <td>1.166787</td>\n",
       "      <td>0.832093</td>\n",
       "      <td>0.603412</td>\n",
       "      <td>1.0</td>\n",
       "    </tr>\n",
       "    <tr>\n",
       "      <th>1</th>\n",
       "      <td>-0.265617</td>\n",
       "      <td>0.214759</td>\n",
       "      <td>-0.342832</td>\n",
       "      <td>0.392223</td>\n",
       "      <td>-0.058374</td>\n",
       "      <td>-0.634379</td>\n",
       "      <td>0.041522</td>\n",
       "      <td>0.011293</td>\n",
       "      <td>0.113210</td>\n",
       "      <td>0.232597</td>\n",
       "      <td>...</td>\n",
       "      <td>0.323153</td>\n",
       "      <td>-0.005168</td>\n",
       "      <td>-0.237397</td>\n",
       "      <td>0.300387</td>\n",
       "      <td>-0.051662</td>\n",
       "      <td>-0.184262</td>\n",
       "      <td>-0.420322</td>\n",
       "      <td>0.126602</td>\n",
       "      <td>-0.084746</td>\n",
       "      <td>1.0</td>\n",
       "    </tr>\n",
       "    <tr>\n",
       "      <th>2</th>\n",
       "      <td>-6.383821</td>\n",
       "      <td>-1.025326</td>\n",
       "      <td>3.417338</td>\n",
       "      <td>2.997937</td>\n",
       "      <td>8.345189</td>\n",
       "      <td>1.261270</td>\n",
       "      <td>1.052824</td>\n",
       "      <td>4.493165</td>\n",
       "      <td>-0.741223</td>\n",
       "      <td>3.892374</td>\n",
       "      <td>...</td>\n",
       "      <td>3.546050</td>\n",
       "      <td>3.515177</td>\n",
       "      <td>2.050835</td>\n",
       "      <td>-4.719389</td>\n",
       "      <td>-3.520026</td>\n",
       "      <td>2.286501</td>\n",
       "      <td>-1.744533</td>\n",
       "      <td>-2.712599</td>\n",
       "      <td>4.605495</td>\n",
       "      <td>1.0</td>\n",
       "    </tr>\n",
       "    <tr>\n",
       "      <th>3</th>\n",
       "      <td>-2.169967</td>\n",
       "      <td>0.147092</td>\n",
       "      <td>0.059845</td>\n",
       "      <td>1.383593</td>\n",
       "      <td>0.939060</td>\n",
       "      <td>-1.031840</td>\n",
       "      <td>-0.033895</td>\n",
       "      <td>-0.829112</td>\n",
       "      <td>1.182150</td>\n",
       "      <td>1.347688</td>\n",
       "      <td>...</td>\n",
       "      <td>0.558245</td>\n",
       "      <td>0.541272</td>\n",
       "      <td>-0.090893</td>\n",
       "      <td>-0.736843</td>\n",
       "      <td>0.731336</td>\n",
       "      <td>-1.237927</td>\n",
       "      <td>-1.284772</td>\n",
       "      <td>-0.039984</td>\n",
       "      <td>-0.075378</td>\n",
       "      <td>1.0</td>\n",
       "    </tr>\n",
       "    <tr>\n",
       "      <th>4</th>\n",
       "      <td>3.463552</td>\n",
       "      <td>2.890177</td>\n",
       "      <td>1.064756</td>\n",
       "      <td>-0.913438</td>\n",
       "      <td>0.520015</td>\n",
       "      <td>-5.597298</td>\n",
       "      <td>0.363643</td>\n",
       "      <td>-4.660159</td>\n",
       "      <td>0.625245</td>\n",
       "      <td>-1.141813</td>\n",
       "      <td>...</td>\n",
       "      <td>5.989198</td>\n",
       "      <td>2.495758</td>\n",
       "      <td>-1.542446</td>\n",
       "      <td>-3.139924</td>\n",
       "      <td>-4.510602</td>\n",
       "      <td>1.789149</td>\n",
       "      <td>-3.133653</td>\n",
       "      <td>6.140551</td>\n",
       "      <td>-0.435200</td>\n",
       "      <td>1.0</td>\n",
       "    </tr>\n",
       "  </tbody>\n",
       "</table>\n",
       "<p>5 rows × 21 columns</p>\n",
       "</div>"
      ],
      "text/plain": [
       "          0         1         2         3         4         5         6  \\\n",
       "0 -5.286892  6.062807 -2.225805  0.970057  9.395250 -0.786571  1.540241   \n",
       "1 -0.265617  0.214759 -0.342832  0.392223 -0.058374 -0.634379  0.041522   \n",
       "2 -6.383821 -1.025326  3.417338  2.997937  8.345189  1.261270  1.052824   \n",
       "3 -2.169967  0.147092  0.059845  1.383593  0.939060 -1.031840 -0.033895   \n",
       "4  3.463552  2.890177  1.064756 -0.913438  0.520015 -5.597298  0.363643   \n",
       "\n",
       "          7         8         9  ...        11        12        13        14  \\\n",
       "0 -1.374832 -2.386710 -0.630306  ...  3.511034  5.385527  0.153624 -2.331901   \n",
       "1  0.011293  0.113210  0.232597  ...  0.323153 -0.005168 -0.237397  0.300387   \n",
       "2  4.493165 -0.741223  3.892374  ...  3.546050  3.515177  2.050835 -4.719389   \n",
       "3 -0.829112  1.182150  1.347688  ...  0.558245  0.541272 -0.090893 -0.736843   \n",
       "4 -4.660159  0.625245 -1.141813  ...  5.989198  2.495758 -1.542446 -3.139924   \n",
       "\n",
       "         15        16        17        18        19  Исход  \n",
       "0  0.662679  1.885741  1.166787  0.832093  0.603412    1.0  \n",
       "1 -0.051662 -0.184262 -0.420322  0.126602 -0.084746    1.0  \n",
       "2 -3.520026  2.286501 -1.744533 -2.712599  4.605495    1.0  \n",
       "3  0.731336 -1.237927 -1.284772 -0.039984 -0.075378    1.0  \n",
       "4 -4.510602  1.789149 -3.133653  6.140551 -0.435200    1.0  \n",
       "\n",
       "[5 rows x 21 columns]"
      ]
     },
     "execution_count": 75,
     "metadata": {},
     "output_type": "execute_result"
    }
   ],
   "source": [
    "df_new = pd.DataFrame(X_pca)\n",
    "df_new['Исход'] = y\n",
    "df_new.head()"
   ]
  },
  {
   "cell_type": "code",
   "execution_count": 77,
   "metadata": {
    "id": "b4Vwlf32G9NT"
   },
   "outputs": [],
   "source": [
    "# создание новой таблицы с уменьшенным кол-вом атрибутов\n",
    "df_new.to_csv('new_table.csv', index=False)"
   ]
  },
  {
   "cell_type": "code",
   "execution_count": 78,
   "metadata": {},
   "outputs": [],
   "source": [
    "#IMPORT PACKAGES\n",
    "import pandas as pd\n",
    "import numpy as np\n",
    "from sklearn.model_selection import train_test_split\n",
    "from sklearn.linear_model import LogisticRegression\n",
    "from sklearn import metrics\n",
    "import matplotlib.pyplot as plt"
   ]
  },
  {
   "cell_type": "code",
   "execution_count": 79,
   "metadata": {},
   "outputs": [],
   "source": [
    "df_new = df_new.fillna(0)"
   ]
  },
  {
   "cell_type": "code",
   "execution_count": 80,
   "metadata": {},
   "outputs": [],
   "source": [
    "#LOAD DATA\n",
    "data= df_new"
   ]
  },
  {
   "cell_type": "code",
   "execution_count": 81,
   "metadata": {},
   "outputs": [
    {
     "name": "stderr",
     "output_type": "stream",
     "text": [
      "/var/folders/pt/1nd8f39x3h116nnrbqlgpbdw0000gn/T/ipykernel_15224/3420659010.py:8: FutureWarning: In a future version of pandas all arguments of DataFrame.drop except for the argument 'labels' will be keyword-only.\n",
      "  X = df_new.drop('Исход', 1)\n"
     ]
    }
   ],
   "source": [
    "#view first six rows of dataset\n",
    "data[0:6]\n",
    "\n",
    "#find total observations in dataset\n",
    "len(data.index)\n",
    "\n",
    "#FIT LOGISTIC REGRESSION MODEL\n",
    "X = df_new.drop('Исход', 1) \n",
    "y = df_new['Исход']\n",
    "\n",
    "#split the dataset into training (70%) and testing (30%) sets\n",
    "X_train,X_test,y_train,y_test = train_test_split(X,y, stratify = y, test_size=0.3,random_state=0)\n",
    "\n",
    "#instantiate the model\n",
    "log_regression = LogisticRegression()\n",
    "\n",
    "#fit the model using the training data\n",
    "log_regression.fit(X_train,y_train)\n",
    "\n",
    "#use model to make predictions on test data\n",
    "y_pred = log_regression.predict(X_test)"
   ]
  },
  {
   "cell_type": "code",
   "execution_count": 82,
   "metadata": {},
   "outputs": [
    {
     "name": "stdout",
     "output_type": "stream",
     "text": [
      "coefficients:  [[-0.47157716 -0.10867364 -0.20359819  0.40384035  0.11636462 -0.10386119\n",
      "  -0.02584901  0.07543922  0.01040458  0.0673193  -0.20864655 -0.01463644\n",
      "   0.04219296  0.05127378  0.08460979 -0.26696333 -0.1665083  -0.05613307\n",
      "   0.21344589 -0.22765332]]\n",
      "intercept:  [0.73815596]\n"
     ]
    }
   ],
   "source": [
    "coefficients = log_regression.coef_\n",
    "intercept = log_regression.intercept_\n",
    "print('coefficients: ', coefficients)\n",
    "print('intercept: ', intercept)\n",
    "\n"
   ]
  },
  {
   "cell_type": "code",
   "execution_count": 83,
   "metadata": {},
   "outputs": [
    {
     "data": {
      "text/plain": [
       "(1, 20)"
      ]
     },
     "execution_count": 83,
     "metadata": {},
     "output_type": "execute_result"
    }
   ],
   "source": [
    "coefficients.shape\n"
   ]
  },
  {
   "cell_type": "code",
   "execution_count": 85,
   "metadata": {
    "colab": {
     "base_uri": "https://localhost:8080/",
     "height": 502
    },
    "id": "befvQsllOnqv",
    "outputId": "42220cf8-6bc8-4697-b9ef-f8e432ae5f97"
   },
   "outputs": [
    {
     "name": "stdout",
     "output_type": "stream",
     "text": [
      "Accuracy: 0.8597122302158273\n",
      "Precision: 0.8645833333333334\n",
      "Recall: 0.9273743016759777\n"
     ]
    },
    {
     "data": {
      "image/png": "[encoded data removed]",
      "text/plain": [
       "<Figure size 640x480 with 1 Axes>"
      ]
     },
     "metadata": {},
     "output_type": "display_data"
    }
   ],
   "source": [
    "\n",
    "#MODEL DIAGNOSTICS\n",
    "cnf_matrix = metrics.confusion_matrix(y_test, y_pred)\n",
    "cnf_matrix\n",
    "print(\"Accuracy:\",metrics.accuracy_score(y_test, y_pred))\n",
    "print (\"Precision:\",metrics.precision_score(y_test, y_pred))\n",
    "print (\"Recall:\",metrics.recall_score(y_test, y_pred))\n",
    "\n",
    "#plot ROC curve\n",
    "y_pred_proba = log_regression.predict_proba(X_test)[::,1]\n",
    "fpr, tpr, _ = metrics.roc_curve(y_test,  y_pred_proba)\n",
    "auc = metrics.roc_auc_score(y_test, y_pred_proba)\n",
    "plt.plot(fpr,tpr,label=\"AUC=\"+str('%.3f' % auc))\n",
    "plt.legend(loc=4)\n",
    "plt.show()"
   ]
  }
 ],
 "metadata": {
  "colab": {
   "provenance": []
  },
  "kernelspec": {
   "display_name": "Python 3 (ipykernel)",
   "language": "python",
   "name": "python3"
  },
  "language_info": {
   "codemirror_mode": {
    "name": "ipython",
    "version": 3
   },
   "file_extension": ".py",
   "mimetype": "text/x-python",
   "name": "python",
   "nbconvert_exporter": "python",
   "pygments_lexer": "ipython3",
   "version": "3.11.2"
  }
 },
 "nbformat": 4,
 "nbformat_minor": 1
}
