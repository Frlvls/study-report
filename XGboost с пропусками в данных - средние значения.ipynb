{
 "cells": [
  {
   "cell_type": "code",
   "execution_count": 1,
   "id": "1cfd0fda",
   "metadata": {},
   "outputs": [],
   "source": [
    "from sklearn.metrics import mean_squared_error, auc, accuracy_score, confusion_matrix\n",
    "\n",
    "from sklearn.model_selection import train_test_split \n",
    "\n",
    "import xgboost as xgb \n",
    "\n",
    "import pandas as pd \n",
    "\n",
    "import numpy as np \n",
    "\n",
    "import matplotlib.pyplot as plt"
   ]
  },
  {
   "cell_type": "code",
   "execution_count": 2,
   "id": "25a41a69",
   "metadata": {},
   "outputs": [],
   "source": [
    "df = pd.read_excel('base-small.xlsx', na_values='-', index_col=0)"
   ]
  },
  {
   "cell_type": "code",
   "execution_count": 3,
   "id": "d11a3f9b",
   "metadata": {},
   "outputs": [
    {
     "name": "stderr",
     "output_type": "stream",
     "text": [
      "/var/folders/pt/1nd8f39x3h116nnrbqlgpbdw0000gn/T/ipykernel_56989/50795730.py:1: FutureWarning: In a future version of pandas all arguments of DataFrame.drop except for the argument 'labels' will be keyword-only.\n",
      "  X = df.drop('Исход', 1)\n"
     ]
    }
   ],
   "source": [
    "X = df.drop('Исход', 1) \n",
    "y = df['Исход']"
   ]
  },
  {
   "cell_type": "code",
   "execution_count": 4,
   "id": "4c2ab26a",
   "metadata": {},
   "outputs": [],
   "source": [
    "dm = xgb.DMatrix(data=X,label=y) "
   ]
  },
  {
   "cell_type": "code",
   "execution_count": 5,
   "id": "c91898c0",
   "metadata": {},
   "outputs": [],
   "source": [
    "X_train,X_test,y_train,y_test = train_test_split(X,y, stratify = y, test_size=0.3,random_state=0)"
   ]
  },
  {
   "cell_type": "code",
   "execution_count": 6,
   "id": "38464a35",
   "metadata": {},
   "outputs": [
    {
     "name": "stdout",
     "output_type": "stream",
     "text": [
      "[[ 81  18]\n",
      " [ 14 165]]\n"
     ]
    }
   ],
   "source": [
    "xgb_model = xgb.XGBClassifier(objective=\"binary:logistic\", random_state=0)\n",
    "xgb_model.fit(X_train,y_train)\n",
    "\n",
    "y_pred = xgb_model.predict(X_test)\n",
    "\n",
    "print(confusion_matrix(y_test, y_pred))"
   ]
  },
  {
   "cell_type": "code",
   "execution_count": 7,
   "id": "3a25657f",
   "metadata": {
    "scrolled": false
   },
   "outputs": [],
   "source": [
    "#xgb.plot_importance(xgb_model)"
   ]
  },
  {
   "cell_type": "code",
   "execution_count": 8,
   "id": "a6060b7c",
   "metadata": {},
   "outputs": [],
   "source": [
    "#y_pred_proba = xgb_model.predict_proba(X_test)[::,1]"
   ]
  },
  {
   "cell_type": "code",
   "execution_count": 9,
   "id": "8c920992",
   "metadata": {},
   "outputs": [
    {
     "data": {
      "image/png": "[encoded data removed]",
      "text/plain": [
       "<Figure size 640x480 with 1 Axes>"
      ]
     },
     "metadata": {},
     "output_type": "display_data"
    },
    {
     "name": "stdout",
     "output_type": "stream",
     "text": [
      "Accuracy: 0.8848920863309353\n",
      "Precision 0.9016393442622951\n",
      "Recall: 0.9217877094972067\n"
     ]
    }
   ],
   "source": [
    "from sklearn import metrics\n",
    "y_pred_proba = xgb_model.predict_proba(X_test)[::,1]\n",
    "fpr, tpr, _ = metrics.roc_curve(y_test,  y_pred_proba)\n",
    "auc = metrics.roc_auc_score(y_test, y_pred_proba)\n",
    "plt.plot(fpr,tpr,label=\"AUC=\"+str('%.3f' % auc))\n",
    "plt.grid()\n",
    "plt.legend(loc=4)\n",
    "plt.show()\n",
    "\n",
    "print(\"Accuracy:\",metrics.accuracy_score(y_test, y_pred))\n",
    "print (\"Precision\",metrics.precision_score(y_test, y_pred))\n",
    "print (\"Recall:\",metrics.recall_score(y_test, y_pred))"
   ]
  },
  {
   "cell_type": "code",
   "execution_count": null,
   "id": "af001057",
   "metadata": {},
   "outputs": [],
   "source": []
  }
 ],
 "metadata": {
  "kernelspec": {
   "display_name": "Python 3 (ipykernel)",
   "language": "python",
   "name": "python3"
  },
  "language_info": {
   "codemirror_mode": {
    "name": "ipython",
    "version": 3
   },
   "file_extension": ".py",
   "mimetype": "text/x-python",
   "name": "python",
   "nbconvert_exporter": "python",
   "pygments_lexer": "ipython3",
   "version": "3.11.2"
  }
 },
 "nbformat": 4,
 "nbformat_minor": 5
}
